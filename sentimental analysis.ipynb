{
 "cells": [
  {
   "cell_type": "code",
   "execution_count": null,
   "id": "127357f4-ed8d-4b71-ad60-b8c8bb68237d",
   "metadata": {},
   "outputs": [],
   "source": [
    "import os\n",
    "import tkinter as tk\n",
    "from tkinter import scrolledtext\n",
    "from transformers import pipeline\n",
    "\n",
    "# Suppress symlink warning\n",
    "os.environ[\"HF_HUB_DISABLE_SYMLINKS_WARNING\"] = \"1\"\n",
    "\n",
    "# Load sentiment model with explicit config\n",
    "analyzer = pipeline(\"sentiment-analysis\", model=\"distilbert/distilbert-base-uncased-finetuned-sst-2-english\", device=-1)\n",
    "\n",
    "# Emotion detection\n",
    "def detect_emotion(user_input):\n",
    "    text = user_input.lower()\n",
    "    if any(word in text for word in [\"surprise\", \"shocked\", \"unexpected\", \"wow\", \"omg\"]):\n",
    "        return \"😲\"\n",
    "    elif any(word in text for word in [\"sad\", \"upset\", \"depressed\", \"cry\", \"heartbroken\"]):\n",
    "        return \"😢\"\n",
    "    else:\n",
    "        result = analyzer(user_input)[0]\n",
    "        label = result['label']\n",
    "        if label == \"POSITIVE\":\n",
    "            return \"😊\"\n",
    "        elif label == \"NEGATIVE\":\n",
    "            return \"😡\"\n",
    "        else:\n",
    "            return \"😐\"\n",
    "\n",
    "def send_message():\n",
    "    user_input = entry.get()\n",
    "    if user_input.strip():\n",
    "        emotion = detect_emotion(user_input)\n",
    "        chat_window.insert(tk.END, f\"You: {user_input}\\n\", \"user\")\n",
    "        chat_window.insert(tk.END, f\"AI: Emotion Detected {emotion}\\n\", \"ai\")\n",
    "        entry.delete(0, tk.END)\n",
    "\n",
    "# Setup GUI\n",
    "root = tk.Tk()\n",
    "root.title(\"Emotion Detection Chatbot\")\n",
    "\n",
    "chat_window = scrolledtext.ScrolledText(root, wrap=tk.WORD, width=50, height=20)\n",
    "chat_window.grid(column=0, row=0, columnspan=2, padx=10, pady=10)\n",
    "chat_window.tag_config(\"user\", foreground=\"blue\")\n",
    "chat_window.tag_config(\"ai\", foreground=\"green\")\n",
    "chat_window.config(state=tk.NORMAL)\n",
    "\n",
    "entry = tk.Entry(root, width=40)\n",
    "entry.grid(column=0, row=1, padx=10, pady=10)\n",
    "\n",
    "send_button = tk.Button(root, text=\"Send\", command=send_message)\n",
    "send_button.grid(column=1, row=1, padx=10, pady=10)\n",
    "\n",
    "root.mainloop()\n",
    "\n",
    "\n",
    "    \n",
    "\n"
   ]
  },
  {
   "cell_type": "code",
   "execution_count": null,
   "id": "da792c24-6365-4f79-bb3b-6f9022d16f08",
   "metadata": {},
   "outputs": [],
   "source": []
  }
 ],
 "metadata": {
  "kernelspec": {
   "display_name": "Python 3 (ipykernel)",
   "language": "python",
   "name": "python3"
  },
  "language_info": {
   "codemirror_mode": {
    "name": "ipython",
    "version": 3
   },
   "file_extension": ".py",
   "mimetype": "text/x-python",
   "name": "python",
   "nbconvert_exporter": "python",
   "pygments_lexer": "ipython3",
   "version": "3.12.7"
  }
 },
 "nbformat": 4,
 "nbformat_minor": 5
}
