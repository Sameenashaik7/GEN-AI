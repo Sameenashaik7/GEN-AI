{
 "cells": [
  {
   "cell_type": "code",
   "execution_count": 1,
   "id": "56c225fc-c8ef-44f1-a5d1-e114adf9126f",
   "metadata": {},
   "outputs": [
    {
     "name": "stdout",
     "output_type": "stream",
     "text": [
      "DialoGPT chatbot! Type quit to stop.\n"
     ]
    },
    {
     "name": "stdin",
     "output_type": "stream",
     "text": [
      "You: hello\n"
     ]
    },
    {
     "name": "stderr",
     "output_type": "stream",
     "text": [
      "The attention mask is not set and cannot be inferred from input because pad token is same as eos token. As a consequence, you may observe unexpected behavior. Please pass your input's `attention_mask` to obtain reliable results.\n"
     ]
    },
    {
     "name": "stdout",
     "output_type": "stream",
     "text": [
      "Bot: Hello! :D\n"
     ]
    },
    {
     "name": "stdin",
     "output_type": "stream",
     "text": [
      "You: what's app\n"
     ]
    },
    {
     "name": "stdout",
     "output_type": "stream",
     "text": [
      "Bot: I'm on my phone, but I'll PM you.\n"
     ]
    },
    {
     "name": "stdin",
     "output_type": "stream",
     "text": [
      "You: bye\n"
     ]
    },
    {
     "name": "stdout",
     "output_type": "stream",
     "text": [
      "Bot: I'm on my phone, but I'll PM you.\n"
     ]
    },
    {
     "name": "stdin",
     "output_type": "stream",
     "text": [
      "You: quit\n"
     ]
    }
   ],
   "source": [
    "from transformers import AutoModelForCausalLM, AutoTokenizer\n",
    "import torch\n",
    "\n",
    "#Load pre trained model and tokenizer(ChatBOT)\n",
    "tokenizer = AutoTokenizer.from_pretrained('microsoft/DialoGPT-medium')\n",
    "model = AutoModelForCausalLM.from_pretrained('microsoft/DialoGPT-medium')\n",
    "\n",
    "#Chat loop\n",
    "print(\"DialoGPT chatbot! Type quit to stop.\")\n",
    "chat_history_ids = None\n",
    "\n",
    "for step in range(5):#5 turns of conversation\n",
    "    user_input = input(\"You:\")\n",
    "    if user_input.lower() == 'quit':\n",
    "      break\n",
    "    #Encode user input\n",
    "    new_input_ids = tokenizer.encode(user_input + tokenizer.eos_token, return_tensors='pt')  \n",
    "    #Append to chat history\n",
    "    bot_input_ids = torch.cat([chat_history_ids, new_input_ids], dim=-1) if step > 0 else new_input_ids\n",
    "    #Generate response\n",
    "    chat_history_ids = model.generate(bot_input_ids, max_length=1000, pad_token_id=tokenizer.eos_token_id)\n",
    "    #Decode and print response\n",
    "    bot_reply = tokenizer.decode(chat_history_ids[:, bot_input_ids.shape[-1]:][0], skip_special_tokens=True)\n",
    "    print(\"Bot:\", bot_reply)"
   ]
  },
  {
   "cell_type": "code",
   "execution_count": null,
   "id": "4e980870-5934-4849-833d-1be3f2ce2b7a",
   "metadata": {},
   "outputs": [],
   "source": []
  }
 ],
 "metadata": {
  "kernelspec": {
   "display_name": "Python 3 (ipykernel)",
   "language": "python",
   "name": "python3"
  },
  "language_info": {
   "codemirror_mode": {
    "name": "ipython",
    "version": 3
   },
   "file_extension": ".py",
   "mimetype": "text/x-python",
   "name": "python",
   "nbconvert_exporter": "python",
   "pygments_lexer": "ipython3",
   "version": "3.12.7"
  }
 },
 "nbformat": 4,
 "nbformat_minor": 5
}
