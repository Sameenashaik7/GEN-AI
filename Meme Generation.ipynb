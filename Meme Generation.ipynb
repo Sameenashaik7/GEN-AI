{
 "cells": [
  {
   "cell_type": "code",
   "execution_count": 7,
   "id": "604a8f95-ff03-4b19-8cc7-9608671ca2bc",
   "metadata": {},
   "outputs": [
    {
     "ename": "SyntaxError",
     "evalue": "invalid syntax (2077794017.py, line 37)",
     "output_type": "error",
     "traceback": [
      "\u001b[1;36m  Cell \u001b[1;32mIn[7], line 37\u001b[1;36m\u001b[0m\n\u001b[1;33m    ellipse(150, 200, 50, 50); // left eye\u001b[0m\n\u001b[1;37m                               ^\u001b[0m\n\u001b[1;31mSyntaxError\u001b[0m\u001b[1;31m:\u001b[0m invalid syntax\n"
     ]
    }
   ],
   "source": [
    "from PIL import Image, ImageDraw, ImageFont\n",
    "\n",
    "# Create a blank image\n",
    "width, height = 800, 600\n",
    "meme = Image.new('RGB', (width, height), color='white')\n",
    "draw = ImageDraw.Draw(meme)\n",
    "\n",
    "# Load or create two sample images (you can replace these with actual images)\n",
    "left = Image.new('RGB', (width // 2, height // 2), color='gray')  # supposed cat\n",
    "right = Image.new('RGB', (width // 2, height // 2), color='orange')  # AI creation\n",
    "\n",
    "# Paste into meme\n",
    "meme.paste(left, (0, 100))\n",
    "meme.paste(right, (width // 2, 100))\n",
    "\n",
    "# Load font\n",
    "font_path = \"/usr/share/fonts/truetype/dejavu/DejaVuSans-Bold.ttf\"  # Change this as needed\n",
    "font = ImageFont.truetype(font_path, 28)\n",
    "\n",
    "# Add text\n",
    "draw.text((10, 10), \"Me asking Gen AI to draw a cat\", font=font, fill='black')\n",
    "draw.text((10, 450), 'Gen AI: \"Here’s your spaghetti feline, hooman!\"', font=font, fill='black')\n",
    "\n",
    "# Save meme\n",
    "meme.save(\"genai_meme.jpg\")\n",
    "emotions = [\"Happy\", \"Sad\", \"Surprised\", \"Neutral\"]\n",
    "currentEmotion = \"\";\n",
    "\n",
    "def setup() :\n",
    "  createCanvas(400, 400);\n",
    "  frameRate(1);\n",
    "\n",
    "\n",
    "def draw() :\n",
    "  background(255);\n",
    "  fill(0);\n",
    "  ellipse(150, 200, 50, 50); // left eye\n",
    " \n",
    "  ellipse(250, 200, 50, 50); // right eye\n",
    "  \n",
    "  currentEmotion = random(emotions);\n",
    "  \n",
    "  noFill();\n",
    "  stroke(0);\n",
    "  strokeWeight(4);\n",
    "  \n",
    "  if (currentEmotion === \"Happy\") {\n",
    "    arc(200, 270, 100, 50, 0, PI);\n",
    "  } else if (currentEmotion === \"Sad\") {\n",
    "    arc(200, 290, 100, 50, PI, 0);\n",
    "  } else if (currentEmotion === \"Surprised\") {\n",
    "    ellipse(200, 280, 30, 40);\n",
    "  } else {\n",
    "    line(170, 280, 230, 280);\n",
    "  }\n",
    "  \n",
    "  noStroke();\n",
    "  fill(0);\n",
    "  textSize(18);\n",
    "  textAlign(CENTER);\n",
    "  text(\"AI feels: \" + currentEmotion, 200, 50);\n"
   ]
  },
  {
   "cell_type": "code",
   "execution_count": null,
   "id": "2daaddf1-f77b-4be2-a517-a765f7c26106",
   "metadata": {},
   "outputs": [],
   "source": []
  }
 ],
 "metadata": {
  "kernelspec": {
   "display_name": "Python 3 (ipykernel)",
   "language": "python",
   "name": "python3"
  },
  "language_info": {
   "codemirror_mode": {
    "name": "ipython",
    "version": 3
   },
   "file_extension": ".py",
   "mimetype": "text/x-python",
   "name": "python",
   "nbconvert_exporter": "python",
   "pygments_lexer": "ipython3",
   "version": "3.12.7"
  }
 },
 "nbformat": 4,
 "nbformat_minor": 5
}
